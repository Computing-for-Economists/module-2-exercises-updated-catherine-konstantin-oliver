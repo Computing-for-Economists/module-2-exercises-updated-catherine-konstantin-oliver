{
 "cells": [
  {
   "cell_type": "markdown",
   "metadata": {
    "id": "xxmTcd0PMWSq"
   },
   "source": [
    "# Computing for Economists: Data Wrangling\n",
    "\n",
    "\n",
    "\n"
   ]
  },
  {
   "cell_type": "markdown",
   "metadata": {
    "id": "4uMDHcycMWSq"
   },
   "source": [
    "In this module, we will have you work through the following datasets to analyze social connectedness in Europe. This module is inspired by [Bailey et al. (2020)](https://pages.stern.nyu.edu/~jstroebe/PDF/BJRKSS_EuroSCI.pdf)."
   ]
  },
  {
   "cell_type": "code",
   "execution_count": 4,
   "metadata": {
    "colab": {
     "base_uri": "https://localhost:8080/"
    },
    "id": "diTnxO5eMWSq",
    "outputId": "35d311db-5988-4f8d-c4ee-c6dff03f1d30"
   },
   "outputs": [],
   "source": [
    "### Import Modules\n",
    "import numpy as np\n",
    "import pandas as pd\n",
    "import geopandas as gpd\n",
    "import matplotlib.pyplot as plt\n",
    "import seaborn as sns\n",
    "import itertools"
   ]
  },
  {
   "cell_type": "code",
   "execution_count": 3,
   "metadata": {},
   "outputs": [
    {
     "name": "stdout",
     "output_type": "stream",
     "text": [
      "Collecting geopandas\n",
      "  Obtaining dependency information for geopandas from https://files.pythonhosted.org/packages/c4/64/7d344cfcef5efddf9cf32f59af7f855828e9d74b5f862eddf5bfd9f25323/geopandas-1.0.1-py3-none-any.whl.metadata\n",
      "  Downloading geopandas-1.0.1-py3-none-any.whl.metadata (2.2 kB)\n",
      "Requirement already satisfied: numpy>=1.22 in /Users/cahuang/anaconda3/lib/python3.11/site-packages (from geopandas) (1.24.3)\n",
      "Collecting pyogrio>=0.7.2 (from geopandas)\n",
      "  Obtaining dependency information for pyogrio>=0.7.2 from https://files.pythonhosted.org/packages/21/c2/f4ce7e004550a1ff74c83465fb9d11507f2d77dfab54203320e68fcd3c90/pyogrio-0.9.0-cp311-cp311-macosx_12_0_arm64.whl.metadata\n",
      "  Downloading pyogrio-0.9.0-cp311-cp311-macosx_12_0_arm64.whl.metadata (3.8 kB)\n",
      "Requirement already satisfied: packaging in /Users/cahuang/anaconda3/lib/python3.11/site-packages (from geopandas) (23.0)\n",
      "Requirement already satisfied: pandas>=1.4.0 in /Users/cahuang/anaconda3/lib/python3.11/site-packages (from geopandas) (1.5.3)\n",
      "Collecting pyproj>=3.3.0 (from geopandas)\n",
      "  Obtaining dependency information for pyproj>=3.3.0 from https://files.pythonhosted.org/packages/30/bd/b9bd3761f08754e8dbb34c5a647db2099b348ab5da338e90980caf280e37/pyproj-3.6.1-cp311-cp311-macosx_11_0_arm64.whl.metadata\n",
      "  Downloading pyproj-3.6.1-cp311-cp311-macosx_11_0_arm64.whl.metadata (31 kB)\n",
      "Collecting shapely>=2.0.0 (from geopandas)\n",
      "  Obtaining dependency information for shapely>=2.0.0 from https://files.pythonhosted.org/packages/2a/fb/e3f72b10a90e26bb1a92a38b3f30f3074ebac6d532f87848ac09c3e8a73b/shapely-2.0.4-cp311-cp311-macosx_11_0_arm64.whl.metadata\n",
      "  Downloading shapely-2.0.4-cp311-cp311-macosx_11_0_arm64.whl.metadata (7.0 kB)\n",
      "Requirement already satisfied: python-dateutil>=2.8.1 in /Users/cahuang/anaconda3/lib/python3.11/site-packages (from pandas>=1.4.0->geopandas) (2.8.2)\n",
      "Requirement already satisfied: pytz>=2020.1 in /Users/cahuang/anaconda3/lib/python3.11/site-packages (from pandas>=1.4.0->geopandas) (2022.7)\n",
      "Requirement already satisfied: certifi in /Users/cahuang/anaconda3/lib/python3.11/site-packages (from pyogrio>=0.7.2->geopandas) (2023.7.22)\n",
      "Requirement already satisfied: six>=1.5 in /Users/cahuang/anaconda3/lib/python3.11/site-packages (from python-dateutil>=2.8.1->pandas>=1.4.0->geopandas) (1.16.0)\n",
      "Downloading geopandas-1.0.1-py3-none-any.whl (323 kB)\n",
      "\u001b[2K   \u001b[90m━━━━━━━━━━━━━━━━━━━━━━━━━━━━━━━━━━━━━━━━\u001b[0m \u001b[32m323.6/323.6 kB\u001b[0m \u001b[31m10.9 MB/s\u001b[0m eta \u001b[36m0:00:00\u001b[0m\n",
      "\u001b[?25hDownloading pyogrio-0.9.0-cp311-cp311-macosx_12_0_arm64.whl (14.8 MB)\n",
      "\u001b[2K   \u001b[90m━━━━━━━━━━━━━━━━━━━━━━━━━━━━━━━━━━━━━━━━\u001b[0m \u001b[32m14.8/14.8 MB\u001b[0m \u001b[31m70.3 MB/s\u001b[0m eta \u001b[36m0:00:00\u001b[0ma \u001b[36m0:00:01\u001b[0m\n",
      "\u001b[?25hDownloading pyproj-3.6.1-cp311-cp311-macosx_11_0_arm64.whl (4.9 MB)\n",
      "\u001b[2K   \u001b[90m━━━━━━━━━━━━━━━━━━━━━━━━━━━━━━━━━━━━━━━━\u001b[0m \u001b[32m4.9/4.9 MB\u001b[0m \u001b[31m65.1 MB/s\u001b[0m eta \u001b[36m0:00:00\u001b[0m00:01\u001b[0m00:01\u001b[0m\n",
      "\u001b[?25hDownloading shapely-2.0.4-cp311-cp311-macosx_11_0_arm64.whl (1.3 MB)\n",
      "\u001b[2K   \u001b[90m━━━━━━━━━━━━━━━━━━━━━━━━━━━━━━━━━━━━━━━━\u001b[0m \u001b[32m1.3/1.3 MB\u001b[0m \u001b[31m49.2 MB/s\u001b[0m eta \u001b[36m0:00:00\u001b[0m\n",
      "\u001b[?25hInstalling collected packages: shapely, pyproj, pyogrio, geopandas\n",
      "Successfully installed geopandas-1.0.1 pyogrio-0.9.0 pyproj-3.6.1 shapely-2.0.4\n"
     ]
    }
   ],
   "source": [
    "!pip install geopandas"
   ]
  },
  {
   "cell_type": "markdown",
   "metadata": {
    "id": "Rf-sRXqHMWSr"
   },
   "source": [
    "## Tidying the Data\n",
    "\n",
    "1. The `data` folder contains data from the following sources. Read each of the data files into Python as Pandas DataFrames.\n",
    "  - https://ec.europa.eu/eurostat/en/web/products-datasets/-/EDAT_LFSE_04 \n",
    "    - This data contains the percent of population by educational attainment level, sex, and NUTS 2 regions in the European Union.\n",
    "  - https://ec.europa.eu/eurostat/web/products-datasets/-/nama_10r_2hhinc\n",
    "    - The data contains the income of households by NUTS 2 region.  \n",
    "  - https://ec.europa.eu/eurostat/web/products-datasets/product?code=demo_r_pjanaggr3\n",
    "    - Population by age, group, sex, and NUTS 2 region.\n",
    "  - https://ec.europa.eu/eurostat/web/gisco/geodata/reference-data/administrative-units-statistical-units/nuts\n",
    "    - NUTS region shapefiles (use the geopandas library to read it as a GeoDataFrame).\n",
    "  - https://media.githubusercontent.com/media/social-connectedness-index/euro_sci/master/_intermediate_data/geo_distance_dat.csv\n",
    "    - Distance between pairs of NUTS 2 regions constructed by [Bailey et al. (2020)](https://pages.stern.nyu.edu/~jstroebe/PDF/BJRKSS_EuroSCI.pdf).\n",
    "  - `gadm1_nuts2-gadm1_nuts2-fb-social-connectedness-index-october-2021.tsv` from https://data.humdata.org/dataset/social-connectedness-index\n",
    "    - This file contains the social connectedness index between NUTS 2 regions and all Global Administrative Areas (GADM). We will only consider NUTS 2 to NUTS 2 connections. Social connectedness is a snapshot of Facebook links as of July 2019.\n",
    "    - Note: this file is very large so we recommend reading the file directly into the notebook at the following link: https://data.humdata.org/dataset/e9988552-74e4-4ff4-943f-c782ac8bca87/resource/5de92e01-606e-4e4d-ad7c-4a3d493a0cc3/download/gadm1_nuts2-gadm1_nuts2-fb-social-connectedness-index-october-2021.tsv\n"
   ]
  },
  {
   "cell_type": "code",
   "execution_count": 48,
   "metadata": {
    "colab": {
     "base_uri": "https://localhost:8080/",
     "height": 400
    },
    "id": "9HYlkboyMWSr",
    "outputId": "b4974597-71b2-4f90-ebfd-62b4488260e3"
   },
   "outputs": [
    {
     "name": "stderr",
     "output_type": "stream",
     "text": [
      "/var/folders/g7/hdjg_nys3bl4y18x_kypq4rm0000gq/T/ipykernel_49592/95112532.py:3: ParserWarning: Falling back to the 'python' engine because the 'c' engine does not support regex separators (separators > 1 char and different from '\\s+' are interpreted as regex); you can avoid this warning by specifying engine='python'.\n",
      "  educ_raw = pd.read_csv('data/estat_edat_lfse_04.tsv', sep='[,\\t]')\n",
      "/var/folders/g7/hdjg_nys3bl4y18x_kypq4rm0000gq/T/ipykernel_49592/95112532.py:4: ParserWarning: Falling back to the 'python' engine because the 'c' engine does not support regex separators (separators > 1 char and different from '\\s+' are interpreted as regex); you can avoid this warning by specifying engine='python'.\n",
      "  inc_raw = pd.read_csv('data/estat_nama_10r_2hhinc.tsv', sep='[,\\t]')\n"
     ]
    }
   ],
   "source": [
    "# read in data\n",
    "pop_raw = pd.read_csv('data/estat_demo_r_pjanaggr3.tsv', sep='\\t')\n",
    "educ_raw = pd.read_csv('data/estat_edat_lfse_04.tsv', sep='[,\\t]')\n",
    "inc_raw = pd.read_csv('data/estat_nama_10r_2hhinc.tsv', sep='[,\\t]')\n",
    "soc_con = pd.read_csv('data/gadm1_nuts2-gadm1_nuts2-fb-social-connectedness-index-october-2021.tsv', sep='\\t')\n",
    "# soc_con = pd.read_csv('https://data.humdata.org/dataset/e9988552-74e4-4ff4-943f-c782ac8bca87/resource/5de92e01-606e-4e4d-ad7c-4a3d493a0cc3/download/gadm1_nuts2-gadm1_nuts2-fb-social-connectedness-index-october-2021.tsv', sep='\\t')\n",
    "dist = pd.read_csv('data/geo_distance_dat.csv')\n",
    "geo = gpd.read_file('data/NUTS_RG_20M_2021_3035.shp/NUTS_RG_20M_2021_3035.shp')"
   ]
  },
  {
   "cell_type": "code",
   "execution_count": 39,
   "metadata": {},
   "outputs": [
    {
     "data": {
      "text/plain": [
       "Index(['sex', 'isced11', 'age', 'geo\\TIME_PERIOD', '2000 ', '2001 ', '2002 ',\n",
       "       '2003 ', '2004 ', '2005 ', '2006 ', '2007 ', '2008 ', '2009 ', '2010 ',\n",
       "       '2011 ', '2012 ', '2013 ', '2014 ', '2015 ', '2016 ', '2017 ', '2018 ',\n",
       "       '2019 ', '2020 ', '2021 ', '2022 ', '2023'],\n",
       "      dtype='object')"
      ]
     },
     "execution_count": 39,
     "metadata": {},
     "output_type": "execute_result"
    }
   ],
   "source": [
    "educ.columns"
   ]
  },
  {
   "cell_type": "markdown",
   "metadata": {
    "id": "O76Qx6NQMWSr"
   },
   "source": [
    "\n",
    "2. Clean the education data (`estat_edat_lfse_04.tsv`) and put it into \"tidy\" format. Check that there is a unique non-missing key for each row. The resulting data should have five columns and 299,088 rows."
   ]
  },
  {
   "cell_type": "code",
   "execution_count": 44,
   "metadata": {
    "colab": {
     "base_uri": "https://localhost:8080/"
    },
    "id": "jO-1xH2tMWSr",
    "outputId": "43dafc4c-ab26-4ee7-e14a-2ad44d1d7922"
   },
   "outputs": [
    {
     "data": {
      "text/html": [
       "<div>\n",
       "<style scoped>\n",
       "    .dataframe tbody tr th:only-of-type {\n",
       "        vertical-align: middle;\n",
       "    }\n",
       "\n",
       "    .dataframe tbody tr th {\n",
       "        vertical-align: top;\n",
       "    }\n",
       "\n",
       "    .dataframe thead th {\n",
       "        text-align: right;\n",
       "    }\n",
       "</style>\n",
       "<table border=\"1\" class=\"dataframe\">\n",
       "  <thead>\n",
       "    <tr style=\"text-align: right;\">\n",
       "      <th></th>\n",
       "      <th>isced11</th>\n",
       "      <th>age</th>\n",
       "      <th>geo</th>\n",
       "      <th>year</th>\n",
       "      <th>pct_educ</th>\n",
       "    </tr>\n",
       "  </thead>\n",
       "  <tbody>\n",
       "    <tr>\n",
       "      <th>24924</th>\n",
       "      <td>ED0-2</td>\n",
       "      <td>Y20-24</td>\n",
       "      <td>AT</td>\n",
       "      <td>2000</td>\n",
       "      <td>14.9</td>\n",
       "    </tr>\n",
       "    <tr>\n",
       "      <th>24925</th>\n",
       "      <td>ED0-2</td>\n",
       "      <td>Y20-24</td>\n",
       "      <td>AT1</td>\n",
       "      <td>2000</td>\n",
       "      <td>15.3</td>\n",
       "    </tr>\n",
       "    <tr>\n",
       "      <th>24926</th>\n",
       "      <td>ED0-2</td>\n",
       "      <td>Y20-24</td>\n",
       "      <td>AT11</td>\n",
       "      <td>2000</td>\n",
       "      <td>: u</td>\n",
       "    </tr>\n",
       "    <tr>\n",
       "      <th>24927</th>\n",
       "      <td>ED0-2</td>\n",
       "      <td>Y20-24</td>\n",
       "      <td>AT12</td>\n",
       "      <td>2000</td>\n",
       "      <td>14.8</td>\n",
       "    </tr>\n",
       "    <tr>\n",
       "      <th>24928</th>\n",
       "      <td>ED0-2</td>\n",
       "      <td>Y20-24</td>\n",
       "      <td>AT13</td>\n",
       "      <td>2000</td>\n",
       "      <td>15.8</td>\n",
       "    </tr>\n",
       "    <tr>\n",
       "      <th>...</th>\n",
       "      <td>...</td>\n",
       "      <td>...</td>\n",
       "      <td>...</td>\n",
       "      <td>...</td>\n",
       "      <td>...</td>\n",
       "    </tr>\n",
       "    <tr>\n",
       "      <th>37381</th>\n",
       "      <td>ED5-8</td>\n",
       "      <td>Y30-34</td>\n",
       "      <td>UKM7</td>\n",
       "      <td>2023</td>\n",
       "      <td>:</td>\n",
       "    </tr>\n",
       "    <tr>\n",
       "      <th>37382</th>\n",
       "      <td>ED5-8</td>\n",
       "      <td>Y30-34</td>\n",
       "      <td>UKM8</td>\n",
       "      <td>2023</td>\n",
       "      <td>:</td>\n",
       "    </tr>\n",
       "    <tr>\n",
       "      <th>37383</th>\n",
       "      <td>ED5-8</td>\n",
       "      <td>Y30-34</td>\n",
       "      <td>UKM9</td>\n",
       "      <td>2023</td>\n",
       "      <td>:</td>\n",
       "    </tr>\n",
       "    <tr>\n",
       "      <th>37384</th>\n",
       "      <td>ED5-8</td>\n",
       "      <td>Y30-34</td>\n",
       "      <td>UKN</td>\n",
       "      <td>2023</td>\n",
       "      <td>:</td>\n",
       "    </tr>\n",
       "    <tr>\n",
       "      <th>37385</th>\n",
       "      <td>ED5-8</td>\n",
       "      <td>Y30-34</td>\n",
       "      <td>UKN0</td>\n",
       "      <td>2023</td>\n",
       "      <td>:</td>\n",
       "    </tr>\n",
       "  </tbody>\n",
       "</table>\n",
       "<p>299088 rows × 5 columns</p>\n",
       "</div>"
      ],
      "text/plain": [
       "      isced11     age   geo   year pct_educ\n",
       "24924   ED0-2  Y20-24    AT  2000     14.9 \n",
       "24925   ED0-2  Y20-24   AT1  2000     15.3 \n",
       "24926   ED0-2  Y20-24  AT11  2000       : u\n",
       "24927   ED0-2  Y20-24  AT12  2000     14.8 \n",
       "24928   ED0-2  Y20-24  AT13  2000     15.8 \n",
       "...       ...     ...   ...    ...      ...\n",
       "37381   ED5-8  Y30-34  UKM7   2023        :\n",
       "37382   ED5-8  Y30-34  UKM8   2023        :\n",
       "37383   ED5-8  Y30-34  UKM9   2023        :\n",
       "37384   ED5-8  Y30-34   UKN   2023        :\n",
       "37385   ED5-8  Y30-34  UKN0   2023        :\n",
       "\n",
       "[299088 rows x 5 columns]"
      ]
     },
     "execution_count": 44,
     "metadata": {},
     "output_type": "execute_result"
    }
   ],
   "source": [
    "# make education data tidy\n",
    "educ = educ_raw.query(\"sex == 'T'\")\n",
    "\n",
    "educ = educ.drop(columns=['freq', 'unit', 'sex'])\n",
    "educ = educ.rename(columns={'geo\\TIME_PERIOD': 'geo'})\n",
    "\n",
    "\n",
    "# rename variables\n",
    "\n",
    "# reshape from wide to long\n",
    "\n",
    "years = [str(year) for year in range(2000, 2024)]\n",
    "educ = pd.melt(educ, id_vars=['isced11', 'age', 'geo'], value_name='pct_educ', var_name='year', ignore_index=False)\n",
    "\n",
    "# pd.wide_to_long(dfw, stubnames=’price’, i=’product’, j=’market’, sep=’_’)\n",
    "# pd.melt\n",
    "educ"
   ]
  },
  {
   "cell_type": "markdown",
   "metadata": {
    "id": "GmUibPXdMWSs"
   },
   "source": [
    "3. Do the same for the income data (`estat_nama_10r_2hhinc.tsv`) and the population data (`estat_demo_r_pjanaggr3.tsv`)."
   ]
  },
  {
   "cell_type": "code",
   "execution_count": 57,
   "metadata": {
    "colab": {
     "base_uri": "https://localhost:8080/"
    },
    "id": "LgHhM_wYMWSs",
    "outputId": "b41deead-015c-4bf5-a00f-96bc35372dd1"
   },
   "outputs": [],
   "source": [
    "inc = inc_raw\n",
    "\n",
    "# go through a lot of effort to drop the freq variable\n",
    "for col in inc.columns:\n",
    "    if inc[col].nunique() == 1:\n",
    "        inc = inc.drop(columns=[col,])\n",
    "\n",
    "inc = inc.rename(columns={'geo\\TIME_PERIOD': 'geo'})"
   ]
  },
  {
   "cell_type": "markdown",
   "metadata": {
    "id": "n8Tqm4m1MWSs"
   },
   "source": [
    "4. Outer join the percent of the population age 25 to 64 in a NUTS 2 region receiving a tertiary education with the income per capita in purchasing power standard (PPS). Then outer join the education and income data with population data for the total population (for sex and age). Only include data at the NUTS 2 level.\n",
    "\n",
    "  To obtain the income per capita in PPS, the national account should be the \"balance of primary incomes/national income, net\" and the direction of flow should be the \"balance\"."
   ]
  },
  {
   "cell_type": "code",
   "execution_count": null,
   "metadata": {},
   "outputs": [],
   "source": []
  },
  {
   "cell_type": "markdown",
   "metadata": {
    "id": "uEvKBzrEMWSs"
   },
   "source": [
    "5. For each pair of NUTS 2 regions, obtain the absolute difference in the two variables constructed in problem 4 in 2019. Drop the French islands (starts with NUTS 2 region code \"FRY\").\n"
   ]
  },
  {
   "cell_type": "code",
   "execution_count": null,
   "metadata": {
    "colab": {
     "base_uri": "https://localhost:8080/",
     "height": 206
    },
    "id": "U-YNM89sMWSs",
    "outputId": "69c6dabc-09a7-48e1-b2c6-2a2f0aa2a672"
   },
   "outputs": [],
   "source": []
  },
  {
   "cell_type": "markdown",
   "metadata": {
    "id": "1Wli7tn0MWSs"
   },
   "source": [
    "6. Now we will merge the the 2019 data with the SCI data and the pairwise distance data. Create a dataframe with one row for each pair of NUTS 2 regions (as two separate columns) and the following variables:\n",
    "\n",
    "*   Log scaled SCI\n",
    "*   Log distance (add 1 to avoid zeros)\n",
    "*   Percent tertiary education for User and Friend NUTS 2\n",
    "*   Income per capita for User and Friend NUTS 2\n",
    "*   Population for User and Friend NUTS 2\n",
    "*   Absolute difference in tertiary education between User and Friend NUTS 2\n",
    "*   Absolute difference in income per capita between User and Friend NUTS 2\n",
    "\n",
    "  Note that the SCI data contains GADM areas, please only keep the NUTS 2 to NUTS 2 rows. Keeps all rows in the SCI data.\n"
   ]
  },
  {
   "cell_type": "code",
   "execution_count": null,
   "metadata": {},
   "outputs": [],
   "source": []
  },
  {
   "cell_type": "markdown",
   "metadata": {
    "id": "NKWIuCArMWSt"
   },
   "source": [
    "## Descriptive Statistics"
   ]
  },
  {
   "cell_type": "markdown",
   "metadata": {
    "id": "aNhlzFLSMWSu"
   },
   "source": [
    "\n",
    "1.   Each country is represented by the first two letters of the NUTS 2 index. Present a country-level population-weighted summary table for the percent people with tertiary education and income per capita in 2019. Include the mean, standard deviation, min, and max. Round all numeric outputs to two decimal places."
   ]
  },
  {
   "cell_type": "code",
   "execution_count": null,
   "metadata": {
    "colab": {
     "base_uri": "https://localhost:8080/",
     "height": 269
    },
    "id": "CTek628Fyll0",
    "outputId": "f90276e6-f694-4def-a50b-b47e862a8f20"
   },
   "outputs": [],
   "source": []
  },
  {
   "cell_type": "markdown",
   "metadata": {
    "id": "ovRerAJj50Vn"
   },
   "source": [
    "2. The SCI is scaled from 1 to 1,000,000 and measures the relative probability of a Facebook friendship link ([source](https://data.humdata.org/dataset/social-connectedness-index?)). If a number is two times higher, then a friendship link between two users from those NUTS 2 regions is twice as likely. Calculate  the mean, std, min, and max of log(scaled SCI) by country and merge it with the summary table from the previous part."
   ]
  },
  {
   "cell_type": "code",
   "execution_count": null,
   "metadata": {
    "colab": {
     "base_uri": "https://localhost:8080/",
     "height": 269
    },
    "id": "siMC7xs521kC",
    "outputId": "77aab399-f091-405c-fcfd-9cf3cc34e0dc"
   },
   "outputs": [],
   "source": []
  },
  {
   "cell_type": "markdown",
   "metadata": {
    "id": "jRZp8vI2yzYQ"
   },
   "source": [
    "3. Compute the correlation between log(scaled SCI), log(distance), user region education and income, as well as differences in education and income between NUTS 2 regions. Is it higher or lower than what you expected?"
   ]
  },
  {
   "cell_type": "code",
   "execution_count": null,
   "metadata": {
    "colab": {
     "base_uri": "https://localhost:8080/",
     "height": 238
    },
    "id": "2AdGb98BE1Yo",
    "outputId": "e29d044a-bf65-4bf7-f225-bfd273429127"
   },
   "outputs": [],
   "source": []
  },
  {
   "cell_type": "markdown",
   "metadata": {
    "id": "SXC8wfNGMWSv"
   },
   "source": [
    "## Data Visualization"
   ]
  },
  {
   "cell_type": "markdown",
   "metadata": {
    "id": "sYYnGL5GMWSv"
   },
   "source": [
    "1. We will ask you to plot two maps of social connections of (1) a country and (2) a NUTS 2 region to all other NUTS 2 regions. Remember the French islands should be dropped (these islands are far away from continental Europe and will therefore make the maps harder to visualize).\n",
    "\n",
    "  * For the chosen country, aggregate the SCI to produce country to NUTS 2 region measures. Scaled SCI can be aggregated correctly using population shares following [SCI documentation](https://data.humdata.org/dataset/social-connectedness-index). For countries $i, j$ with regions $\\{r_i\\}, \\{r_j\\}$, aggregate SCI is given by:\n",
    "\n",
    "  $$SCI_{i,j} = \\sum_{\\{r_i\\}}\\sum_{\\{r_j\\}} PopShare_{r_i} \\times PopShare_{r_j} \\times SCI_{r_i, r_j}$$\n",
    "\n",
    "  where $PopShare_{r_i}$ is the share of country $i$'s population in region $r_i$.\n",
    "\n",
    "  * Merge the aggregated SCI data with the GeoDataFrame (keep only NUTS 2 regions) for the applicable geographies.\n",
    "  * Construct the bins for the map legend by first selecting a baseline SCI cutoff (e.g. 20th percentile of the **total data** that you are working with). Then calculate the subsequent cutoffs as $2\\times$, $3\\times$, $5\\times$, $10\\times$, $25\\times$, $100\\times, 1000\\times$ that of the baseline cutoff. Feel free to use another legend system as long as there is justification.\n",
    "  * Map directly using the GeoPandas library, or feel free to explore interactive maps in Plotly.\n",
    "\n",
    "  Recall the principles of software engineering (consider writing a function for code that may be reused)."
   ]
  },
  {
   "cell_type": "code",
   "execution_count": null,
   "metadata": {
    "colab": {
     "base_uri": "https://localhost:8080/",
     "height": 206
    },
    "id": "Km8jsk1RkOpY",
    "outputId": "81a2f794-9f07-4b56-f764-1619cd8a3f6c"
   },
   "outputs": [],
   "source": []
  },
  {
   "cell_type": "markdown",
   "metadata": {
    "id": "5_HNgLCWu04X"
   },
   "source": [
    "2. Show the relationship between log SCI and log distance in a figure. Highlight the points of at least one user geography (country or NUTS 2). Fit a curve to the data and plot it along with the scatterplot."
   ]
  },
  {
   "cell_type": "code",
   "execution_count": null,
   "metadata": {
    "colab": {
     "base_uri": "https://localhost:8080/",
     "height": 472
    },
    "id": "XavdL98zmzR4",
    "outputId": "63b24951-529e-42a0-f27c-fa9a9f164e67"
   },
   "outputs": [],
   "source": []
  },
  {
   "cell_type": "markdown",
   "metadata": {
    "id": "qBObMHkKvRoG"
   },
   "source": [
    "3. Visualize the distributions of log SCI by income bin (e.g. low, medium, high) of the user region. Comment."
   ]
  },
  {
   "cell_type": "code",
   "execution_count": null,
   "metadata": {
    "colab": {
     "base_uri": "https://localhost:8080/",
     "height": 564
    },
    "id": "EbrKuC1IwoPW",
    "outputId": "b6d58629-0fed-4d3a-b0bf-1ec41f745276"
   },
   "outputs": [],
   "source": []
  },
  {
   "cell_type": "markdown",
   "metadata": {
    "id": "rP9aGapzLp_R"
   },
   "source": [
    "Bonus: Explore the data and feel free to visualize whatever you would like. Make sure you understand the variables and compute summary statistics."
   ]
  },
  {
   "cell_type": "code",
   "execution_count": null,
   "metadata": {},
   "outputs": [],
   "source": []
  },
  {
   "cell_type": "markdown",
   "metadata": {
    "id": "gCuM9ND8MWSv"
   },
   "source": [
    "# Submission ⭐\n",
    "\n",
    "Congratulations you finished Module 2! We will handle all exercise submissions on GitHub Classroom. Please push your changes to your team repository folder on GitHub Classroom."
   ]
  }
 ],
 "metadata": {
  "colab": {
   "provenance": []
  },
  "kernelspec": {
   "display_name": "Python 3 (ipykernel)",
   "language": "python",
   "name": "python3"
  },
  "language_info": {
   "codemirror_mode": {
    "name": "ipython",
    "version": 3
   },
   "file_extension": ".py",
   "mimetype": "text/x-python",
   "name": "python",
   "nbconvert_exporter": "python",
   "pygments_lexer": "ipython3",
   "version": "3.12.4"
  }
 },
 "nbformat": 4,
 "nbformat_minor": 1
}
